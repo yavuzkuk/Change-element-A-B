{
  "nbformat": 4,
  "nbformat_minor": 0,
  "metadata": {
    "colab": {
      "provenance": [],
      "authorship_tag": "ABX9TyMqcHmNbV50CefBbjqJolqH",
      "include_colab_link": true
    },
    "kernelspec": {
      "name": "python3",
      "display_name": "Python 3"
    },
    "language_info": {
      "name": "python"
    }
  },
  "cells": [
    {
      "cell_type": "markdown",
      "metadata": {
        "id": "view-in-github",
        "colab_type": "text"
      },
      "source": [
        "<a href=\"https://colab.research.google.com/github/yavuzkuk/Change-element-A-B/blob/main/Mnist%20Lenet.ipynb\" target=\"_parent\"><img src=\"https://colab.research.google.com/assets/colab-badge.svg\" alt=\"Open In Colab\"/></a>"
      ]
    },
    {
      "cell_type": "code",
      "source": [
        "import numpy as np\n",
        "from keras.layers import Dense,Conv2D,MaxPooling2D,Flatten\n",
        "from keras.models import Sequential\n",
        "from keras.datasets import mnist"
      ],
      "metadata": {
        "id": "1hNVmEa3PuHo"
      },
      "execution_count": 3,
      "outputs": []
    },
    {
      "cell_type": "code",
      "source": [
        "(train_img,train_label),(test_img,test_label) = mnist.load_data()"
      ],
      "metadata": {
        "id": "JCFW4iYSP_uv"
      },
      "execution_count": 40,
      "outputs": []
    },
    {
      "cell_type": "code",
      "source": [
        "train_img = train_img/255.0\n",
        "test_img = test_img/255.0"
      ],
      "metadata": {
        "id": "-iGH7xhCQeYD"
      },
      "execution_count": 41,
      "outputs": []
    },
    {
      "cell_type": "code",
      "source": [
        "train_img = train_img.reshape(train_img.shape[0],28,28)\n",
        "test_img = test_img.reshape(test_img.shape[0],28,28)"
      ],
      "metadata": {
        "id": "Vud-vfXMQuo5"
      },
      "execution_count": 42,
      "outputs": []
    },
    {
      "cell_type": "code",
      "source": [
        "from keras.utils.np_utils import to_categorical\n",
        "model = Sequential()\n",
        "\n",
        "model.add(Conv2D(filters=6,kernel_size=(5,5),padding=\"valid\",activation=\"relu\",input_shape=(28,28,1)))\n",
        "model.add(MaxPooling2D(pool_size=(2,2)))\n",
        "model.add(Conv2D(filters=16,kernel_size=(5,5),activation=\"relu\"))\n",
        "model.add(MaxPooling2D(pool_size=(2,2)))\n",
        "\n",
        "model.add(Flatten())\n",
        "\n",
        "model.add(Dense(120,activation=\"relu\"))\n",
        "\n",
        "model.add(Dense(10,activation=\"softmax\"))\n",
        "\n",
        "model.compile(metrics=[\"accuracy\"],optimizer=\"adam\",loss=\"categorical_crossentropy\")\n",
        "\n",
        "train_label = to_categorical(train_label)\n",
        "test_label = to_categorical(test_label)"
      ],
      "metadata": {
        "id": "l8xFC-06Q6Hz"
      },
      "execution_count": 43,
      "outputs": []
    },
    {
      "cell_type": "code",
      "source": [
        "history = model.fit(train_img,train_label,epochs=20,validation_data=(test_img,test_label))"
      ],
      "metadata": {
        "id": "nYkMBLjeTIfV",
        "outputId": "25601557-9022-4506-c94f-671ffcbab1f4",
        "colab": {
          "base_uri": "https://localhost:8080/"
        }
      },
      "execution_count": 44,
      "outputs": [
        {
          "output_type": "stream",
          "name": "stdout",
          "text": [
            "Epoch 1/20\n",
            "1875/1875 [==============================] - 41s 20ms/step - loss: 0.1842 - accuracy: 0.9446 - val_loss: 0.0691 - val_accuracy: 0.9786\n",
            "Epoch 2/20\n",
            "1875/1875 [==============================] - 37s 20ms/step - loss: 0.0609 - accuracy: 0.9809 - val_loss: 0.0421 - val_accuracy: 0.9865\n",
            "Epoch 3/20\n",
            "1875/1875 [==============================] - 38s 20ms/step - loss: 0.0440 - accuracy: 0.9861 - val_loss: 0.0434 - val_accuracy: 0.9872\n",
            "Epoch 4/20\n",
            "1875/1875 [==============================] - 37s 20ms/step - loss: 0.0359 - accuracy: 0.9887 - val_loss: 0.0373 - val_accuracy: 0.9870\n",
            "Epoch 5/20\n",
            "1875/1875 [==============================] - 36s 19ms/step - loss: 0.0282 - accuracy: 0.9912 - val_loss: 0.0366 - val_accuracy: 0.9894\n",
            "Epoch 6/20\n",
            "1875/1875 [==============================] - 37s 20ms/step - loss: 0.0245 - accuracy: 0.9924 - val_loss: 0.0315 - val_accuracy: 0.9908\n",
            "Epoch 7/20\n",
            "1875/1875 [==============================] - 37s 20ms/step - loss: 0.0212 - accuracy: 0.9931 - val_loss: 0.0458 - val_accuracy: 0.9853\n",
            "Epoch 8/20\n",
            "1875/1875 [==============================] - 37s 20ms/step - loss: 0.0177 - accuracy: 0.9943 - val_loss: 0.0322 - val_accuracy: 0.9900\n",
            "Epoch 9/20\n",
            "1875/1875 [==============================] - 39s 21ms/step - loss: 0.0141 - accuracy: 0.9953 - val_loss: 0.0408 - val_accuracy: 0.9878\n",
            "Epoch 10/20\n",
            "1875/1875 [==============================] - 35s 19ms/step - loss: 0.0131 - accuracy: 0.9957 - val_loss: 0.0309 - val_accuracy: 0.9913\n",
            "Epoch 11/20\n",
            "1875/1875 [==============================] - 35s 19ms/step - loss: 0.0114 - accuracy: 0.9963 - val_loss: 0.0439 - val_accuracy: 0.9888\n",
            "Epoch 12/20\n",
            "1875/1875 [==============================] - 35s 19ms/step - loss: 0.0110 - accuracy: 0.9966 - val_loss: 0.0444 - val_accuracy: 0.9885\n",
            "Epoch 13/20\n",
            "1875/1875 [==============================] - 36s 19ms/step - loss: 0.0099 - accuracy: 0.9967 - val_loss: 0.0443 - val_accuracy: 0.9890\n",
            "Epoch 14/20\n",
            "1875/1875 [==============================] - 37s 20ms/step - loss: 0.0083 - accuracy: 0.9973 - val_loss: 0.0366 - val_accuracy: 0.9900\n",
            "Epoch 15/20\n",
            "1875/1875 [==============================] - 37s 20ms/step - loss: 0.0078 - accuracy: 0.9975 - val_loss: 0.0392 - val_accuracy: 0.9899\n",
            "Epoch 16/20\n",
            "1875/1875 [==============================] - 37s 20ms/step - loss: 0.0083 - accuracy: 0.9972 - val_loss: 0.0415 - val_accuracy: 0.9897\n",
            "Epoch 17/20\n",
            "1875/1875 [==============================] - 37s 20ms/step - loss: 0.0078 - accuracy: 0.9973 - val_loss: 0.0406 - val_accuracy: 0.9901\n",
            "Epoch 18/20\n",
            "1875/1875 [==============================] - 36s 19ms/step - loss: 0.0057 - accuracy: 0.9982 - val_loss: 0.0405 - val_accuracy: 0.9907\n",
            "Epoch 19/20\n",
            "1875/1875 [==============================] - 36s 19ms/step - loss: 0.0072 - accuracy: 0.9978 - val_loss: 0.0447 - val_accuracy: 0.9902\n",
            "Epoch 20/20\n",
            "1875/1875 [==============================] - 36s 19ms/step - loss: 0.0061 - accuracy: 0.9979 - val_loss: 0.0421 - val_accuracy: 0.9904\n"
          ]
        }
      ]
    },
    {
      "cell_type": "code",
      "source": [
        "loss,accuracy = model.evaluate(test_img,test_label)"
      ],
      "metadata": {
        "id": "JuSd8rpWXSIZ",
        "outputId": "0be417db-8f4b-43b5-98b7-08458b4b874e",
        "colab": {
          "base_uri": "https://localhost:8080/"
        }
      },
      "execution_count": 47,
      "outputs": [
        {
          "output_type": "stream",
          "name": "stdout",
          "text": [
            "313/313 [==============================] - 2s 8ms/step - loss: 0.0421 - accuracy: 0.9904\n"
          ]
        }
      ]
    },
    {
      "cell_type": "code",
      "source": [
        "import matplotlib.pyplot as plt"
      ],
      "metadata": {
        "id": "O5FTZkJpee9U"
      },
      "execution_count": 48,
      "outputs": []
    },
    {
      "cell_type": "code",
      "source": [
        "loss = history.history[\"loss\"]\n",
        "accuracy = history.history[\"accuracy\"]"
      ],
      "metadata": {
        "id": "n8zEx8OTe8ia"
      },
      "execution_count": 60,
      "outputs": []
    },
    {
      "cell_type": "code",
      "source": [
        "epochs = range(1,21)\n",
        "plt.plot(loss,epochs)\n",
        "plt.show()"
      ],
      "metadata": {
        "id": "LDQ4uULle-ub",
        "outputId": "d412e4ea-d03c-48c6-f391-c03d4f0f0246",
        "colab": {
          "base_uri": "https://localhost:8080/",
          "height": 265
        }
      },
      "execution_count": 61,
      "outputs": [
        {
          "output_type": "display_data",
          "data": {
            "text/plain": [
              "<Figure size 432x288 with 1 Axes>"
            ],
            "image/png": "[encoded data removed]"
          },
          "metadata": {
            "needs_background": "light"
          }
        }
      ]
    },
    {
      "cell_type": "code",
      "source": [
        "plt.plot(accuracy,epochs)\n",
        "plt.show()"
      ],
      "metadata": {
        "id": "KlwKcT3qf9Yy",
        "outputId": "dad3a0a0-6365-4f83-f002-c40c7b4ed754",
        "colab": {
          "base_uri": "https://localhost:8080/",
          "height": 265
        }
      },
      "execution_count": 62,
      "outputs": [
        {
          "output_type": "display_data",
          "data": {
            "text/plain": [
              "<Figure size 432x288 with 1 Axes>"
            ],
            "image/png": "[encoded data removed]"
          },
          "metadata": {
            "needs_background": "light"
          }
        }
      ]
    },
    {
      "cell_type": "code",
      "source": [],
      "metadata": {
        "id": "-l1Si_a-gBvD"
      },
      "execution_count": null,
      "outputs": []
    }
  ]
}